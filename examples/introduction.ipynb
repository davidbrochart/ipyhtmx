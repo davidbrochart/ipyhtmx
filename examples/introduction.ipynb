{
 "cells": [
  {
   "cell_type": "markdown",
   "id": "8455bd5a-4e2e-4c77-8938-939508b66ac2",
   "metadata": {
    "tags": []
   },
   "source": [
    "You will need to install the following libraries:"
   ]
  },
  {
   "cell_type": "code",
   "execution_count": null,
   "id": "420acbba-ceb8-4547-8712-3cdb61252d8d",
   "metadata": {},
   "outputs": [],
   "source": [
    "!pip install fastapi jinja2 uvicorn"
   ]
  },
  {
   "cell_type": "markdown",
   "id": "86655a52-eb75-46fd-abee-a49c21c52359",
   "metadata": {},
   "source": [
    "The Jinja2 template for this example is located in `examples/templates/index.html`:"
   ]
  },
  {
   "cell_type": "code",
   "execution_count": 1,
   "id": "8dfd0743-32f4-4331-8ff8-878687067fc8",
   "metadata": {},
   "outputs": [
    {
     "name": "stdout",
     "output_type": "stream",
     "text": [
      "<!DOCTYPE html>\n",
      "<html lang=\"en\">\n",
      "<head>\n",
      "    <meta charset=\"UTF-8\">\n",
      "    <meta http-equiv=\"X-UA-Compatible\" content=\"IE=edge\">\n",
      "    <meta name=\"viewport\" content=\"width=device-width, initial-scale=1.0\">\n",
      "    <title>FastAPI demo</title>\n",
      "</head>\n",
      "<body>\n",
      "    <p>Hello World</p>\n",
      "</body>\n",
      "</html>"
     ]
    }
   ],
   "source": [
    "!cat templates/index.html"
   ]
  },
  {
   "cell_type": "code",
   "execution_count": null,
   "id": "f0c24e52-8bb1-44d6-af37-2f78a435f1b0",
   "metadata": {},
   "outputs": [],
   "source": [
    "from fastapi import FastAPI, Request\n",
    "from fastapi.responses import HTMLResponse\n",
    "from fastapi.templating import Jinja2Templates\n",
    "from fastapi.middleware.cors import CORSMiddleware\n",
    "\n",
    "app = FastAPI()\n",
    "\n",
    "origins = [\n",
    "    \"http://127.0.0.1:8888\",  # the URL of the Jupyter server\n",
    "]\n",
    "\n",
    "app.add_middleware(\n",
    "    CORSMiddleware,\n",
    "    allow_origins=origins,\n",
    "    allow_credentials=True,\n",
    "    allow_methods=[\"*\"],\n",
    "    allow_headers=[\"*\"],\n",
    ")\n",
    "\n",
    "templates = Jinja2Templates(directory=\"templates\")\n",
    "\n",
    "@app.get(\"/clicked\", response_class=HTMLResponse)\n",
    "def click(request: Request):\n",
    "    context = {\"request\": request}\n",
    "    return templates.TemplateResponse(\"index.html\", context)"
   ]
  },
  {
   "cell_type": "code",
   "execution_count": null,
   "id": "4dcc2573-fc45-409e-810d-7aba803cc205",
   "metadata": {},
   "outputs": [],
   "source": [
    "import asyncio\n",
    "from uvicorn.config import Config\n",
    "from uvicorn.server import Server\n",
    "\n",
    "config = Config(app)\n",
    "server = Server(config)\n",
    "server.config.setup_event_loop()\n",
    "asyncio.create_task(server.serve())"
   ]
  },
  {
   "cell_type": "code",
   "execution_count": null,
   "id": "13a32788-728a-4beb-b23c-090c6b5c3b14",
   "metadata": {},
   "outputs": [],
   "source": [
    "from ipyhtmx import Htmx"
   ]
  },
  {
   "cell_type": "code",
   "execution_count": null,
   "id": "1c11b753-2512-4dcf-97f0-a776c93ab9a0",
   "metadata": {},
   "outputs": [],
   "source": [
    "w = Htmx()\n",
    "w"
   ]
  },
  {
   "cell_type": "code",
   "execution_count": null,
   "id": "f97edb7b-808a-46a2-967c-a5f41880311d",
   "metadata": {},
   "outputs": [],
   "source": [
    "w.html = \"\"\"\n",
    "<div id=\"parent-div\">\n",
    "    <button hx-get=\"http://127.0.0.1:8000/clicked\"\n",
    "        hx-trigger=\"click\"\n",
    "        hx-target=\"#parent-div\"\n",
    "        hx-swap=\"outerHTML\"\n",
    "    >\n",
    "        Click Me!\n",
    "    </button>\n",
    "</div>\n",
    "\"\"\""
   ]
  },
  {
   "cell_type": "code",
   "execution_count": null,
   "id": "51a5b248-5046-46f2-ae40-9aa454b2a5dd",
   "metadata": {},
   "outputs": [],
   "source": []
  }
 ],
 "metadata": {
  "kernelspec": {
   "display_name": "Python 3 (ipykernel)",
   "language": "python",
   "name": "python3"
  },
  "language_info": {
   "codemirror_mode": {
    "name": "ipython",
    "version": 3
   },
   "file_extension": ".py",
   "mimetype": "text/x-python",
   "name": "python",
   "nbconvert_exporter": "python",
   "pygments_lexer": "ipython3",
   "version": "3.11.0"
  }
 },
 "nbformat": 4,
 "nbformat_minor": 5
}
